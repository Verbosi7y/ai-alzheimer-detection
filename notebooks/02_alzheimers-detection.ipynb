{
 "cells": [
  {
   "cell_type": "markdown",
   "metadata": {},
   "source": [
    "Import Libraries"
   ]
  },
  {
   "cell_type": "code",
   "execution_count": null,
   "metadata": {},
   "outputs": [],
   "source": [
    "import torch\n",
    "import torch.nn as nn\n",
    "import torch.optim as optim\n",
    "from torch.utils.data import DataLoader\n",
    "\n",
    "import os\n",
    "import sys"
   ]
  },
  {
   "cell_type": "markdown",
   "metadata": {},
   "source": [
    "Device Setup:\n",
    "If you have an Nvidia GPU, you need to install CUDA\n",
    "Otherwise, CPU will be used"
   ]
  },
  {
   "cell_type": "code",
   "execution_count": null,
   "metadata": {},
   "outputs": [],
   "source": [
    "device = torch.device(\"cuda:0\" if torch.cuda.is_available() else \"cpu\")\n",
    "print(\"Hardware to be used:\", device)\n",
    "if torch.cuda.is_available():\n",
    "    print(f\"CUDA version: {torch.version.cuda}\")\n",
    "    print(torch.cuda.get_device_name())"
   ]
  },
  {
   "cell_type": "markdown",
   "metadata": {},
   "source": [
    "Enter the parent path (e.g., \"C:\\\\Users\\\\{USERNAME}\\\\alzheimer-project-ai4all\")\n",
    "\n",
    "Enter path to dataset (*.npz)\n",
    "\n",
    "Enter path to test dataset (e.g., \"assets\\Kaggle\\alzheimer_mri_preprocessed_dataset\\Test_Data\")"
   ]
  },
  {
   "cell_type": "code",
   "execution_count": null,
   "metadata": {},
   "outputs": [],
   "source": [
    "# ENTER PARENT PATH - Example: C:\\Users\\{USERNAME}\\alzheimer-project-ai4all\n",
    "parent_path = r\"ENTER PARENT PATH\"\n",
    "\n",
    "dataset_dir = fr\"{parent_path}\\assets\\Kaggle\\alzheimer_mri_preprocessed_dataset\"\n",
    "\n",
    "train_dir = fr\"Train_Data\\augmented_adasyn_train_data.npz\"\n",
    "train_path = os.path.join(dataset_dir, train_dir)\n",
    "\n",
    "val_dir = fr\"Validation_Data\\val_data.npz\"\n",
    "val_path = os.path.join(dataset_dir, val_dir)\n",
    "\n",
    "test_dir = fr\"Test_Data\\test_data.npz\"\n",
    "test_path = os.path.join(dataset_dir, test_dir)\n",
    "\n",
    "model_dir = r\"models\"\n",
    "model_path = os.path.join(parent_path, model_dir)\n",
    "\n",
    "if not os.path.exists(model_path):\n",
    "    os.makedirs(model_path)\n",
    "\n",
    "model_dir = r\"models\\best_ad_model.pth\"\n",
    "model_path = os.path.join(parent_path, model_dir)\n",
    "\n",
    "sys.path.append(parent_path)"
   ]
  },
  {
   "cell_type": "code",
   "execution_count": null,
   "metadata": {},
   "outputs": [],
   "source": [
    "classes = [\"Non_Demented\", \"Very_Mild_Demented\", \"Mild_Demented\", \"Moderate_Demented\"]"
   ]
  },
  {
   "cell_type": "markdown",
   "metadata": {},
   "source": [
    "Defining the hyper-parameters"
   ]
  },
  {
   "cell_type": "code",
   "execution_count": null,
   "metadata": {},
   "outputs": [],
   "source": [
    "epoches = 25 # implement early stopping\n",
    "learning_rate = 0.001\n",
    "batch_size = 8\n",
    "early_stop = 5"
   ]
  },
  {
   "cell_type": "markdown",
   "metadata": {},
   "source": [
    "Loading the datasets"
   ]
  },
  {
   "cell_type": "code",
   "execution_count": null,
   "metadata": {},
   "outputs": [],
   "source": [
    "from alzheimersdetection.AlzheimerDataset import AlzheimerDataset\n",
    "\n",
    "train_dataset = AlzheimerDataset(train_path)\n",
    "val_dataset = AlzheimerDataset(val_path)\n",
    "test_dataset = AlzheimerDataset(test_path)"
   ]
  },
  {
   "cell_type": "code",
   "execution_count": null,
   "metadata": {},
   "outputs": [],
   "source": [
    "print(\"Training Dataset Size:\")\n",
    "print(len(train_dataset))\n",
    "\n",
    "print(\"\\nValidation Dataset Size:\")\n",
    "print(len(val_dataset))\n",
    "\n",
    "print(\"\\nTesting Dataset Size:\")\n",
    "print(len(test_dataset))"
   ]
  },
  {
   "cell_type": "code",
   "execution_count": null,
   "metadata": {},
   "outputs": [],
   "source": [
    "train_loader = DataLoader(train_dataset, batch_size=batch_size, shuffle=True)\n",
    "val_loader = DataLoader(val_dataset, batch_size=batch_size, shuffle=False)\n",
    "test_loader = DataLoader(test_dataset, batch_size=batch_size, shuffle=False)\n",
    "\n",
    "train_iter = iter(train_loader)\n",
    "val_iter = iter(val_loader)\n",
    "test_iter = iter(test_loader)\n",
    "\n",
    "print(\"Training Dataloader Size: \", len(train_loader))\n",
    "X, y = next(train_iter)\n",
    "print(X, y)"
   ]
  },
  {
   "cell_type": "markdown",
   "metadata": {},
   "source": [
    "Create our model using PyTorch's Convolutional Neural Network"
   ]
  },
  {
   "cell_type": "code",
   "execution_count": null,
   "metadata": {},
   "outputs": [],
   "source": [
    "from alzheimersdetection.AlzheimerModel import AlzheimerCNN\n",
    "\n",
    "total_samples = len(train_dataset)\n",
    "n_iters = len(train_loader) # math.ceil(total_samples/batch_size)\n",
    "model = AlzheimerCNN().to(device)\n",
    "\n",
    "criterion = nn.CrossEntropyLoss()\n",
    "optimizer = optim.Adam(model.parameters(), lr=learning_rate)\n",
    "\n",
    "print(\"Total Samples: \", total_samples)\n",
    "print(\"Total Iterations: \", n_iters)"
   ]
  },
  {
   "cell_type": "markdown",
   "metadata": {},
   "source": [
    "Training our model"
   ]
  },
  {
   "cell_type": "code",
   "execution_count": null,
   "metadata": {},
   "outputs": [],
   "source": [
    "best_val_loss = float('inf')\n",
    "stop_ctr = 0\n",
    "total_train_losses = []\n",
    "total_val_losses = []\n",
    "total_val_acc = []\n",
    "all_pred = []\n",
    "all_labels = []\n",
    "\n",
    "for epoch in range(epoches):\n",
    "    model.train()\n",
    "    running_loss = 0.0\n",
    "    \n",
    "    # these are the images and labels in the batch\n",
    "    for i, (images, labels) in enumerate(train_loader):\n",
    "        labels = labels.type(torch.LongTensor)\n",
    "        images, labels = images.to(device), labels.to(device)\n",
    "\n",
    "        optimizer.zero_grad()\n",
    "\n",
    "        # Forward\n",
    "        outputs = model(images)\n",
    "        loss = criterion(outputs, labels)\n",
    "        loss.backward() # Backpropogation\n",
    "        optimizer.step() # Update the weights!!!\n",
    "\n",
    "        running_loss += loss.item() * images.size(0)\n",
    "\n",
    "    # Set the evaluation to test the validation\n",
    "    model.eval()\n",
    "    val_loss = 0.0\n",
    "    val_correct = 0.0\n",
    "    with torch.no_grad():\n",
    "        for images, labels in val_loader:\n",
    "            labels = labels.type(torch.LongTensor)\n",
    "            images, labels = images.to(device), labels.to(device)\n",
    "\n",
    "            outputs = model(images)\n",
    "            loss += criterion(outputs, labels)\n",
    "\n",
    "            val_loss += loss.item() * images.size(0)\n",
    "            _, prediction = torch.max(outputs, 1)\n",
    "            val_correct += torch.sum(prediction == labels.data)\n",
    "\n",
    "            all_pred.extend(prediction.view(-1).cpu().numpy())\n",
    "            all_labels.extend(labels.view(-1).cpu().numpy())\n",
    "\n",
    "    running_loss = running_loss / len(train_loader.dataset)\n",
    "    val_loss = val_loss / len(val_loader.dataset)\n",
    "    val_acc = val_correct.double() / len(val_loader.dataset)\n",
    "    \n",
    "    total_train_losses.append(running_loss)\n",
    "    total_val_losses.append(val_loss)\n",
    "    total_val_acc.append(val_acc)\n",
    "\n",
    "    print(f'epoch {epoch+1}/{epoches}, training loss: {running_loss:.4f}, validation loss: {val_loss:.4f}, val acc: {val_acc:.4f}')\n",
    "\n",
    "    if val_loss < best_val_loss:\n",
    "        best_val_loss = val_loss\n",
    "        stop_ctr = 0\n",
    "        torch.save(model.state_dict(), model_path)\n",
    "    else:\n",
    "        stop_ctr += 1\n",
    "\n",
    "    if stop_ctr >= early_stop:\n",
    "        print(\"Early Stop!\")\n",
    "        print(f\"Stopped at Epoch: {epoch}\")\n",
    "        break"
   ]
  },
  {
   "cell_type": "markdown",
   "metadata": {},
   "source": [
    "Verify our predictions using testing data (never seen before)"
   ]
  },
  {
   "cell_type": "code",
   "execution_count": null,
   "metadata": {},
   "outputs": [],
   "source": [
    "from alzheimersdetection import AlzheimerMetrics\n",
    "\n",
    "AlzheimerMetrics.run_metrics(model, test_loader, device, classes)"
   ]
  },
  {
   "cell_type": "markdown",
   "metadata": {},
   "source": [
    "------\n",
    "<p style=\"text-align: center;\"> Made with ❤️ </p>\n",
    "<p style=\"text-align: center;\"> Darwin Xue </p>"
   ]
  }
 ],
 "metadata": {
  "kernelspec": {
   "display_name": "Python 3",
   "language": "python",
   "name": "python3"
  },
  "language_info": {
   "codemirror_mode": {
    "name": "ipython",
    "version": 3
   },
   "file_extension": ".py",
   "mimetype": "text/x-python",
   "name": "python",
   "nbconvert_exporter": "python",
   "pygments_lexer": "ipython3",
   "version": "3.12.2"
  }
 },
 "nbformat": 4,
 "nbformat_minor": 2
}
