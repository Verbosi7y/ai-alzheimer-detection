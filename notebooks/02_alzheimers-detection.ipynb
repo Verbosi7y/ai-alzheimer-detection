{
 "cells": [
  {
   "cell_type": "markdown",
   "metadata": {},
   "source": [
    "Import Libraries"
   ]
  },
  {
   "cell_type": "code",
   "execution_count": 12,
   "metadata": {},
   "outputs": [],
   "source": [
    "import torch\n",
    "import torch.nn as nn\n",
    "import torch.optim as optim\n",
    "from torch.utils.data import DataLoader\n",
    "\n",
    "import os\n",
    "import sys"
   ]
  },
  {
   "cell_type": "markdown",
   "metadata": {},
   "source": [
    "Device Setup:\n",
    "If you have an Nvidia GPU, you need to install CUDA\n",
    "Otherwise, CPU will be used"
   ]
  },
  {
   "cell_type": "code",
   "execution_count": 13,
   "metadata": {},
   "outputs": [
    {
     "name": "stdout",
     "output_type": "stream",
     "text": [
      "Hardware to be used: cuda:0\n",
      "CUDA version: 12.1\n",
      "NVIDIA GeForce RTX 2080 Ti\n"
     ]
    }
   ],
   "source": [
    "device = torch.device(\"cuda:0\" if torch.cuda.is_available() else \"cpu\")\n",
    "print(\"Hardware to be used:\", device)\n",
    "if torch.cuda.is_available():\n",
    "    print(f\"CUDA version: {torch.version.cuda}\")\n",
    "    print(torch.cuda.get_device_name())"
   ]
  },
  {
   "cell_type": "markdown",
   "metadata": {},
   "source": [
    "Enter the parent path (e.g., \"C:\\\\Users\\\\{USERNAME}\\\\alzheimer-project-ai4all\")\n",
    "\n",
    "Enter path to dataset (*.npz)\n",
    "\n",
    "Enter path to test dataset (e.g., \"assets\\Kaggle\\alzheimer_mri_preprocessed_dataset\\Test_Data\")"
   ]
  },
  {
   "cell_type": "code",
   "execution_count": 14,
   "metadata": {},
   "outputs": [],
   "source": [
    "# ENTER PARENT PATH - Example: C:\\Users\\{USERNAME}\\ai-alzheimer-detection\n",
    "parent_path = r\"ENTER PARENT PATH\"\n",
    "\n",
    "dataset_dir = fr\"{parent_path}\\assets\\Kaggle\\alzheimer_mri_preprocessed_dataset\"\n",
    "\n",
    "train_dir = fr\"Train_Data\\augmented_adasyn_train_data.npz\"\n",
    "train_path = os.path.join(dataset_dir, train_dir)\n",
    "\n",
    "val_dir = fr\"Validation_Data\\val_data.npz\"\n",
    "val_path = os.path.join(dataset_dir, val_dir)\n",
    "\n",
    "test_dir = fr\"Test_Data\\test_data.npz\"\n",
    "test_path = os.path.join(dataset_dir, test_dir)\n",
    "\n",
    "model_dir = r\"models\"\n",
    "model_path = os.path.join(parent_path, model_dir)\n",
    "\n",
    "if not os.path.exists(model_path):\n",
    "    os.makedirs(model_path)\n",
    "\n",
    "model_dir = r\"models\\best_ad_model.pth\"\n",
    "model_path = os.path.join(parent_path, model_dir)\n",
    "\n",
    "sys.path.append(parent_path)"
   ]
  },
  {
   "cell_type": "code",
   "execution_count": 15,
   "metadata": {},
   "outputs": [],
   "source": [
    "classes = [\"Non_Demented\", \"Very_Mild_Demented\", \"Mild_Demented\", \"Moderate_Demented\"]"
   ]
  },
  {
   "cell_type": "markdown",
   "metadata": {},
   "source": [
    "Defining the hyper-parameters"
   ]
  },
  {
   "cell_type": "code",
   "execution_count": 16,
   "metadata": {},
   "outputs": [],
   "source": [
    "epoches = 25 # implement early stopping\n",
    "learning_rate = 0.001\n",
    "batch_size = 8\n",
    "early_stop = 5"
   ]
  },
  {
   "cell_type": "markdown",
   "metadata": {},
   "source": [
    "Loading the datasets"
   ]
  },
  {
   "cell_type": "code",
   "execution_count": 17,
   "metadata": {},
   "outputs": [],
   "source": [
    "from alzheimersdetection.AlzheimerDataset import AlzheimerDataset\n",
    "\n",
    "train_dataset = AlzheimerDataset(train_path)\n",
    "val_dataset = AlzheimerDataset(val_path)\n",
    "test_dataset = AlzheimerDataset(test_path)"
   ]
  },
  {
   "cell_type": "code",
   "execution_count": 18,
   "metadata": {},
   "outputs": [
    {
     "name": "stdout",
     "output_type": "stream",
     "text": [
      "Training Dataset Size:\n",
      "15113\n",
      "\n",
      "Validation Dataset Size:\n",
      "1280\n",
      "\n",
      "Testing Dataset Size:\n",
      "1280\n"
     ]
    }
   ],
   "source": [
    "print(\"Training Dataset Size:\")\n",
    "print(len(train_dataset))\n",
    "\n",
    "print(\"\\nValidation Dataset Size:\")\n",
    "print(len(val_dataset))\n",
    "\n",
    "print(\"\\nTesting Dataset Size:\")\n",
    "print(len(test_dataset))"
   ]
  },
  {
   "cell_type": "code",
   "execution_count": 19,
   "metadata": {},
   "outputs": [
    {
     "name": "stdout",
     "output_type": "stream",
     "text": [
      "Training Dataloader Size:  1890\n",
      "tensor([[[[0., 0., 0.,  ..., 0., 0., 0.],\n",
      "          [0., 0., 0.,  ..., 0., 0., 0.],\n",
      "          [0., 0., 0.,  ..., 0., 0., 0.],\n",
      "          ...,\n",
      "          [0., 0., 0.,  ..., 0., 0., 0.],\n",
      "          [0., 0., 0.,  ..., 0., 0., 0.],\n",
      "          [0., 0., 0.,  ..., 0., 0., 0.]]],\n",
      "\n",
      "\n",
      "        [[[0., 0., 0.,  ..., 0., 0., 0.],\n",
      "          [0., 0., 0.,  ..., 0., 0., 0.],\n",
      "          [0., 0., 0.,  ..., 0., 0., 0.],\n",
      "          ...,\n",
      "          [0., 0., 0.,  ..., 0., 0., 0.],\n",
      "          [0., 0., 0.,  ..., 0., 0., 0.],\n",
      "          [0., 0., 0.,  ..., 0., 0., 0.]]],\n",
      "\n",
      "\n",
      "        [[[0., 0., 0.,  ..., 0., 0., 0.],\n",
      "          [0., 0., 0.,  ..., 0., 0., 0.],\n",
      "          [0., 0., 0.,  ..., 0., 0., 0.],\n",
      "          ...,\n",
      "          [0., 0., 0.,  ..., 0., 0., 0.],\n",
      "          [0., 0., 0.,  ..., 0., 0., 0.],\n",
      "          [0., 0., 0.,  ..., 0., 0., 0.]]],\n",
      "\n",
      "\n",
      "        ...,\n",
      "\n",
      "\n",
      "        [[[0., 0., 0.,  ..., 0., 0., 0.],\n",
      "          [0., 0., 0.,  ..., 0., 0., 0.],\n",
      "          [0., 0., 0.,  ..., 0., 0., 0.],\n",
      "          ...,\n",
      "          [0., 0., 0.,  ..., 0., 0., 0.],\n",
      "          [0., 0., 0.,  ..., 0., 0., 0.],\n",
      "          [0., 0., 0.,  ..., 0., 0., 0.]]],\n",
      "\n",
      "\n",
      "        [[[0., 0., 0.,  ..., 0., 0., 0.],\n",
      "          [0., 0., 0.,  ..., 0., 0., 0.],\n",
      "          [0., 0., 0.,  ..., 0., 0., 0.],\n",
      "          ...,\n",
      "          [0., 0., 0.,  ..., 0., 0., 0.],\n",
      "          [0., 0., 0.,  ..., 0., 0., 0.],\n",
      "          [0., 0., 0.,  ..., 0., 0., 0.]]],\n",
      "\n",
      "\n",
      "        [[[0., 0., 0.,  ..., 0., 0., 0.],\n",
      "          [0., 0., 0.,  ..., 0., 0., 0.],\n",
      "          [0., 0., 0.,  ..., 0., 0., 0.],\n",
      "          ...,\n",
      "          [0., 0., 0.,  ..., 0., 0., 0.],\n",
      "          [0., 0., 0.,  ..., 0., 0., 0.],\n",
      "          [0., 0., 0.,  ..., 0., 0., 0.]]]]) tensor([1, 0, 1, 2, 0, 0, 3, 0], dtype=torch.int32)\n"
     ]
    }
   ],
   "source": [
    "train_loader = DataLoader(train_dataset, batch_size=batch_size, shuffle=True)\n",
    "val_loader = DataLoader(val_dataset, batch_size=batch_size, shuffle=False)\n",
    "test_loader = DataLoader(test_dataset, batch_size=batch_size, shuffle=False)\n",
    "\n",
    "train_iter = iter(train_loader)\n",
    "val_iter = iter(val_loader)\n",
    "test_iter = iter(test_loader)\n",
    "\n",
    "print(\"Training Dataloader Size: \", len(train_loader))\n",
    "X, y = next(train_iter)\n",
    "print(X, y)"
   ]
  },
  {
   "cell_type": "markdown",
   "metadata": {},
   "source": [
    "Create our model using PyTorch's Convolutional Neural Network"
   ]
  },
  {
   "cell_type": "code",
   "execution_count": 20,
   "metadata": {},
   "outputs": [
    {
     "name": "stdout",
     "output_type": "stream",
     "text": [
      "Total Samples:  15113\n",
      "Total Iterations:  1890\n"
     ]
    }
   ],
   "source": [
    "from alzheimersdetection.AlzheimerModel import AlzheimerCNN\n",
    "\n",
    "total_samples = len(train_dataset)\n",
    "n_iters = len(train_loader) # math.ceil(total_samples/batch_size)\n",
    "model = AlzheimerCNN().to(device)\n",
    "\n",
    "criterion = nn.CrossEntropyLoss()\n",
    "optimizer = optim.Adam(model.parameters(), lr=learning_rate)\n",
    "\n",
    "print(\"Total Samples: \", total_samples)\n",
    "print(\"Total Iterations: \", n_iters)"
   ]
  },
  {
   "cell_type": "markdown",
   "metadata": {},
   "source": [
    "Training our model"
   ]
  },
  {
   "cell_type": "code",
   "execution_count": 21,
   "metadata": {},
   "outputs": [
    {
     "name": "stdout",
     "output_type": "stream",
     "text": [
      "epoch 1/25, training loss: 0.8577, validation loss: 62.8518, val acc: 0.6578\n",
      "epoch 2/25, training loss: 0.5401, validation loss: 48.1772, val acc: 0.7227\n",
      "epoch 3/25, training loss: 0.3908, validation loss: 39.9376, val acc: 0.7930\n",
      "epoch 4/25, training loss: 0.2760, validation loss: 27.0296, val acc: 0.8766\n",
      "epoch 5/25, training loss: 0.1841, validation loss: 34.9830, val acc: 0.8531\n",
      "epoch 6/25, training loss: 0.1280, validation loss: 25.9238, val acc: 0.8922\n",
      "epoch 7/25, training loss: 0.0884, validation loss: 34.7530, val acc: 0.8781\n",
      "epoch 8/25, training loss: 0.0704, validation loss: 20.1211, val acc: 0.9336\n",
      "epoch 9/25, training loss: 0.0523, validation loss: 20.1824, val acc: 0.9320\n",
      "epoch 10/25, training loss: 0.0482, validation loss: 28.8059, val acc: 0.9227\n",
      "epoch 11/25, training loss: 0.0331, validation loss: 23.1303, val acc: 0.9469\n",
      "epoch 12/25, training loss: 0.0442, validation loss: 44.5674, val acc: 0.8914\n",
      "epoch 13/25, training loss: 0.0315, validation loss: 26.6806, val acc: 0.9289\n",
      "Early Stop!\n",
      "Stopped at Epoch: 12\n"
     ]
    }
   ],
   "source": [
    "best_val_loss = float('inf')\n",
    "stop_ctr = 0\n",
    "total_train_losses = []\n",
    "total_val_losses = []\n",
    "total_val_acc = []\n",
    "all_pred = []\n",
    "all_labels = []\n",
    "\n",
    "for epoch in range(epoches):\n",
    "    model.train()\n",
    "    running_loss = 0.0\n",
    "    \n",
    "    # these are the images and labels in the batch\n",
    "    for i, (images, labels) in enumerate(train_loader):\n",
    "        labels = labels.type(torch.LongTensor)\n",
    "        images, labels = images.to(device), labels.to(device)\n",
    "\n",
    "        optimizer.zero_grad()\n",
    "\n",
    "        # Forward\n",
    "        outputs = model(images)\n",
    "        loss = criterion(outputs, labels)\n",
    "        loss.backward() # Backpropogation\n",
    "        optimizer.step() # Update the weights!!!\n",
    "\n",
    "        running_loss += loss.item() * images.size(0)\n",
    "\n",
    "    # Set the evaluation to test the validation\n",
    "    model.eval()\n",
    "    val_loss = 0.0\n",
    "    val_correct = 0.0\n",
    "    with torch.no_grad():\n",
    "        for images, labels in val_loader:\n",
    "            labels = labels.type(torch.LongTensor)\n",
    "            images, labels = images.to(device), labels.to(device)\n",
    "\n",
    "            outputs = model(images)\n",
    "            loss += criterion(outputs, labels)\n",
    "\n",
    "            val_loss += loss.item() * images.size(0)\n",
    "            _, prediction = torch.max(outputs, 1)\n",
    "            val_correct += torch.sum(prediction == labels.data)\n",
    "\n",
    "            all_pred.extend(prediction.view(-1).cpu().numpy())\n",
    "            all_labels.extend(labels.view(-1).cpu().numpy())\n",
    "\n",
    "    running_loss = running_loss / len(train_loader.dataset)\n",
    "    val_loss = val_loss / len(val_loader.dataset)\n",
    "    val_acc = val_correct.double() / len(val_loader.dataset)\n",
    "    \n",
    "    total_train_losses.append(running_loss)\n",
    "    total_val_losses.append(val_loss)\n",
    "    total_val_acc.append(val_acc)\n",
    "\n",
    "    print(f'epoch {epoch+1}/{epoches}, training loss: {running_loss:.4f}, validation loss: {val_loss:.4f}, val acc: {val_acc:.4f}')\n",
    "\n",
    "    if val_loss < best_val_loss:\n",
    "        best_val_loss = val_loss\n",
    "        stop_ctr = 0\n",
    "        torch.save(model.state_dict(), model_path)\n",
    "    else:\n",
    "        stop_ctr += 1\n",
    "\n",
    "    if stop_ctr >= early_stop:\n",
    "        print(\"Early Stop!\")\n",
    "        print(f\"Stopped at Epoch: {epoch}\")\n",
    "        break"
   ]
  },
  {
   "cell_type": "markdown",
   "metadata": {},
   "source": [
    "Verify our predictions using testing data (never seen before)"
   ]
  },
  {
   "cell_type": "code",
   "execution_count": 22,
   "metadata": {},
   "outputs": [
    {
     "name": "stdout",
     "output_type": "stream",
     "text": [
      "Non_Demented(0) - Accuracy: 0.95, Precision: 0.964516129032258, Recall: 0.934375\n",
      "Very_Mild_Demented(1) - Accuracy: 0.94765625, Precision: 0.913232104121475, Recall: 0.9397321428571429\n",
      "Mild_Demented(2) - Accuracy: 0.9765625, Precision: 0.8983957219251337, Recall: 0.9385474860335196\n",
      "Moderate_Demented(3) - Accuracy: 0.99921875, Precision: 1.0, Recall: 0.9230769230769231\n"
     ]
    }
   ],
   "source": [
    "from alzheimersdetection import AlzheimerMetrics\n",
    "\n",
    "AlzheimerMetrics.run_metrics(model, test_loader, device, classes)"
   ]
  },
  {
   "cell_type": "markdown",
   "metadata": {},
   "source": [
    "------\n",
    "<p style=\"text-align: center;\"> Made with ❤️ </p>\n",
    "<p style=\"text-align: center;\"> Darwin Xue </p>"
   ]
  }
 ],
 "metadata": {
  "kernelspec": {
   "display_name": "Python 3",
   "language": "python",
   "name": "python3"
  },
  "language_info": {
   "codemirror_mode": {
    "name": "ipython",
    "version": 3
   },
   "file_extension": ".py",
   "mimetype": "text/x-python",
   "name": "python",
   "nbconvert_exporter": "python",
   "pygments_lexer": "ipython3",
   "version": "3.10.5"
  }
 },
 "nbformat": 4,
 "nbformat_minor": 2
}
