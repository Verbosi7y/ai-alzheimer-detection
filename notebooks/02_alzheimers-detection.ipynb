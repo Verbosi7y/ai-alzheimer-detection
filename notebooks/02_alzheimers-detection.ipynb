{
 "cells": [
  {
   "cell_type": "markdown",
   "metadata": {},
   "source": [
    "Import Libraries"
   ]
  },
  {
   "cell_type": "code",
   "execution_count": null,
   "metadata": {},
   "outputs": [],
   "source": [
    "import torch\n",
    "import torch.nn as nn\n",
    "import torch.optim as optim\n",
    "from torchvision.transforms import v2\n",
    "from torch.utils.data import DataLoader\n",
    "\n",
    "import numpy as np\n",
    "\n",
    "import os\n",
    "import sys"
   ]
  },
  {
   "cell_type": "markdown",
   "metadata": {},
   "source": [
    "Device Setup:\n",
    "If you have an Nvidia GPU, you need to install CUDA\n",
    "Otherwise, CPU will be used"
   ]
  },
  {
   "cell_type": "code",
   "execution_count": null,
   "metadata": {},
   "outputs": [],
   "source": [
    "device = torch.device(\"cuda:0\" if torch.cuda.is_available() else \"cpu\")\n",
    "print(\"Hardware to be used:\", device)\n",
    "\n",
    "if torch.cuda.is_available():\n",
    "    print(torch.cuda.get_device_name())"
   ]
  },
  {
   "cell_type": "markdown",
   "metadata": {},
   "source": [
    "Enter the parent path (e.g., \"C:\\\\Users\\\\{USERNAME}\\\\alzheimer-project-ai4all\")\n",
    "\n",
    "Enter path to dataset (*.npz)\n",
    "\n",
    "Enter path to test dataset (e.g., \"assets\\Kaggle\\alzheimer_mri_preprocessed_dataset\\Test_Data\")"
   ]
  },
  {
   "cell_type": "code",
   "execution_count": null,
   "metadata": {},
   "outputs": [],
   "source": [
    "parent_path = r\"ENTER PARENT PATH\"\n",
    "\n",
    "dataset_dir = fr\"{parent_path}\\assets\\Kaggle\\alzheimer_mri_preprocessed_dataset\"\n",
    "\n",
    "train_dir = fr\"Train_Data\\augmented_adasyn_train_data.npz\"\n",
    "train_path = os.path.join(dataset_dir, train_dir)\n",
    "\n",
    "val_dir = fr\"Validation_Data\\val_data.npz\"\n",
    "val_path = os.path.join(dataset_dir, val_dir)\n",
    "\n",
    "test_dir = fr\"Test_Data\\test_data.npz\"\n",
    "test_path = os.path.join(dataset_dir, test_dir)\n",
    "\n",
    "sys.path.append(parent_path)"
   ]
  },
  {
   "cell_type": "code",
   "execution_count": null,
   "metadata": {},
   "outputs": [],
   "source": [
    "classes = [\"Non_Demented\", \"Very_Mild_Demented\", \"Mild_Demented\", \"Moderate_Demented\"]"
   ]
  },
  {
   "cell_type": "markdown",
   "metadata": {},
   "source": [
    "Defining the hyper-parameters"
   ]
  },
  {
   "cell_type": "code",
   "execution_count": null,
   "metadata": {},
   "outputs": [],
   "source": [
    "epoches = 25 # implement early stopping\n",
    "learning_rate = 0.001\n",
    "batch_size = 8"
   ]
  },
  {
   "cell_type": "markdown",
   "metadata": {},
   "source": [
    "Loading the datasets"
   ]
  },
  {
   "cell_type": "code",
   "execution_count": null,
   "metadata": {},
   "outputs": [],
   "source": [
    "from alzheimersdetection.AlzheimerDataset import AlzheimerDataset\n",
    "\n",
    "transform = v2.Compose([v2.ToImage(), v2.ToDtype])\n",
    "\n",
    "train_dataset = AlzheimerDataset(train_path, transform=transform)\n",
    "val_dataset = AlzheimerDataset(val_path, transform=transform)\n",
    "test_dataset = AlzheimerDataset(test_path, transform=transform)"
   ]
  },
  {
   "cell_type": "code",
   "execution_count": null,
   "metadata": {},
   "outputs": [],
   "source": [
    "print(\"Training Dataset Size:\")\n",
    "len(train_dataset)\n",
    "\n",
    "print(\"\\nValidation Dataset Size:\")\n",
    "len(val_dataset)\n",
    "\n",
    "print(\"\\nTesting Dataset Size:\")\n",
    "len(test_dataset)"
   ]
  },
  {
   "cell_type": "code",
   "execution_count": null,
   "metadata": {},
   "outputs": [],
   "source": [
    "train_loader = DataLoader(train_dataset, batch_size=batch_size, shuffle=True)\n",
    "val_loader = DataLoader(val_dataset, batch_size=batch_size, shuffle=False)\n",
    "test_loader = DataLoader(test_dataset, batch_size=batch_size, shuffle=False)"
   ]
  },
  {
   "cell_type": "markdown",
   "metadata": {},
   "source": [
    "Create our model using PyTorch's Convolutional Neural Network"
   ]
  },
  {
   "cell_type": "code",
   "execution_count": null,
   "metadata": {},
   "outputs": [],
   "source": [
    "from alzheimersdetection.AlzheimerModel import AlzheimerCNN\n",
    "size = len(train_loader)\n",
    "model = AlzheimerCNN(size).to(device)\n",
    "\n",
    "criterion = nn.CrossEntropyLoss()\n",
    "optimizer = optim.Adam(model.parameters(), lr=learning_rate)\n",
    "\n",
    "n_total_steps = len(train_loader)"
   ]
  },
  {
   "cell_type": "markdown",
   "metadata": {},
   "source": [
    "Training Model"
   ]
  },
  {
   "cell_type": "code",
   "execution_count": null,
   "metadata": {},
   "outputs": [],
   "source": [
    "for epoch in range(epoches):\n",
    "    model.train()\n",
    "    running_loss = 0.0\n",
    "    \n",
    "    for images, labels in train_loader:\n",
    "        images, labels = images.to(device), labels.to(device)\n",
    "        optimizer.zero_grad()\n",
    "\n",
    "        # Forward\n",
    "        outputs = model(images)\n",
    "        loss = criterion(outputs, labels)\n",
    "        loss.backward() # Backpropogation\n",
    "\n",
    "        optimizer.step() # Update the weights!!!\n",
    "\n",
    "        running_loss+=loss.item()\n",
    "\n",
    "    epoch_loss = running_loss/len(train_loader)\n",
    "    print(f\"Epoch {epoch + 1}/{epoches} - Training Loss: {epoch_loss:.4f}\")\n"
   ]
  },
  {
   "cell_type": "markdown",
   "metadata": {},
   "source": [
    "------\n",
    "<p style=\"text-align: center;\"> Made with ❤️ </p>\n",
    "<p style=\"text-align: center;\"> Darwin Xue </p>"
   ]
  }
 ],
 "metadata": {
  "kernelspec": {
   "display_name": "Python 3",
   "language": "python",
   "name": "python3"
  },
  "language_info": {
   "codemirror_mode": {
    "name": "ipython",
    "version": 3
   },
   "file_extension": ".py",
   "mimetype": "text/x-python",
   "name": "python",
   "nbconvert_exporter": "python",
   "pygments_lexer": "ipython3",
   "version": "3.10.5"
  }
 },
 "nbformat": 4,
 "nbformat_minor": 2
}
